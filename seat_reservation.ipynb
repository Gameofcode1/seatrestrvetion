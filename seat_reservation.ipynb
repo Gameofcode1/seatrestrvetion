{
 "cells": [
  {
   "cell_type": "code",
   "execution_count": 1,
   "metadata": {},
   "outputs": [],
   "source": [
    "import pandas as pd\n",
    "import numpy as np"
   ]
  },
  {
   "cell_type": "code",
   "execution_count": 2,
   "metadata": {},
   "outputs": [],
   "source": [
    "table=np.arange(1,26).reshape(5,5)"
   ]
  },
  {
   "cell_type": "code",
   "execution_count": 3,
   "metadata": {},
   "outputs": [],
   "source": [
    "new_t=pd.DataFrame(table,[1,2,3,4,5],['A','B','C','D','E'])"
   ]
  },
  {
   "cell_type": "code",
   "execution_count": 19,
   "metadata": {},
   "outputs": [
    {
     "data": {
      "text/html": [
       "<div>\n",
       "<style scoped>\n",
       "    .dataframe tbody tr th:only-of-type {\n",
       "        vertical-align: middle;\n",
       "    }\n",
       "\n",
       "    .dataframe tbody tr th {\n",
       "        vertical-align: top;\n",
       "    }\n",
       "\n",
       "    .dataframe thead th {\n",
       "        text-align: right;\n",
       "    }\n",
       "</style>\n",
       "<table border=\"1\" class=\"dataframe\">\n",
       "  <thead>\n",
       "    <tr style=\"text-align: right;\">\n",
       "      <th></th>\n",
       "      <th>A</th>\n",
       "      <th>B</th>\n",
       "      <th>C</th>\n",
       "      <th>D</th>\n",
       "      <th>E</th>\n",
       "    </tr>\n",
       "  </thead>\n",
       "  <tbody>\n",
       "    <tr>\n",
       "      <td>1</td>\n",
       "      <td>saugat</td>\n",
       "      <td>2</td>\n",
       "      <td>3</td>\n",
       "      <td>4</td>\n",
       "      <td>5</td>\n",
       "    </tr>\n",
       "    <tr>\n",
       "      <td>2</td>\n",
       "      <td>6</td>\n",
       "      <td>7</td>\n",
       "      <td>8</td>\n",
       "      <td>pandey</td>\n",
       "      <td>10</td>\n",
       "    </tr>\n",
       "    <tr>\n",
       "      <td>3</td>\n",
       "      <td>11</td>\n",
       "      <td>subham</td>\n",
       "      <td>13</td>\n",
       "      <td>14</td>\n",
       "      <td>eric</td>\n",
       "    </tr>\n",
       "    <tr>\n",
       "      <td>4</td>\n",
       "      <td>16</td>\n",
       "      <td>dipak</td>\n",
       "      <td>18</td>\n",
       "      <td>wagle</td>\n",
       "      <td>20</td>\n",
       "    </tr>\n",
       "    <tr>\n",
       "      <td>5</td>\n",
       "      <td>21</td>\n",
       "      <td>22</td>\n",
       "      <td>januka</td>\n",
       "      <td>24</td>\n",
       "      <td>25</td>\n",
       "    </tr>\n",
       "  </tbody>\n",
       "</table>\n",
       "</div>"
      ],
      "text/plain": [
       "        A       B       C       D     E\n",
       "1  saugat       2       3       4     5\n",
       "2       6       7       8  pandey    10\n",
       "3      11  subham      13      14  eric\n",
       "4      16   dipak      18   wagle    20\n",
       "5      21      22  januka      24    25"
      ]
     },
     "execution_count": 19,
     "metadata": {},
     "output_type": "execute_result"
    }
   ],
   "source": [
    "new_t\n",
    "\n"
   ]
  },
  {
   "cell_type": "code",
   "execution_count": 17,
   "metadata": {},
   "outputs": [
    {
     "name": "stdout",
     "output_type": "stream",
     "text": [
      "1.Check pnr status\n",
      "2.Ticket Reservation\n",
      "\n",
      "Enter your option : 2\n",
      "enter your name:eric\n",
      "enter your address:gorkha\n",
      "male or female:male\n",
      "ENTER COLUMN:e\n",
      "{'name': ['eric'], 'address': ['gorkha'], 'sex': ['male'], 'column': ['E']}\n",
      "enter the seat number:15\n"
     ]
    },
    {
     "name": "stderr",
     "output_type": "stream",
     "text": [
      "C:\\Users\\saugat\\Anaconda3\\lib\\site-packages\\ipykernel_launcher.py:54: SettingWithCopyWarning: \n",
      "A value is trying to be set on a copy of a slice from a DataFrame\n",
      "\n",
      "See the caveats in the documentation: http://pandas.pydata.org/pandas-docs/stable/user_guide/indexing.html#returning-a-view-versus-a-copy\n"
     ]
    },
    {
     "data": {
      "text/html": [
       "<div>\n",
       "<style scoped>\n",
       "    .dataframe tbody tr th:only-of-type {\n",
       "        vertical-align: middle;\n",
       "    }\n",
       "\n",
       "    .dataframe tbody tr th {\n",
       "        vertical-align: top;\n",
       "    }\n",
       "\n",
       "    .dataframe thead th {\n",
       "        text-align: right;\n",
       "    }\n",
       "</style>\n",
       "<table border=\"1\" class=\"dataframe\">\n",
       "  <thead>\n",
       "    <tr style=\"text-align: right;\">\n",
       "      <th></th>\n",
       "      <th>name</th>\n",
       "      <th>address</th>\n",
       "      <th>sex</th>\n",
       "      <th>column</th>\n",
       "    </tr>\n",
       "  </thead>\n",
       "  <tbody>\n",
       "    <tr>\n",
       "      <td>0</td>\n",
       "      <td>eric</td>\n",
       "      <td>gorkha</td>\n",
       "      <td>male</td>\n",
       "      <td>E</td>\n",
       "    </tr>\n",
       "  </tbody>\n",
       "</table>\n",
       "</div>"
      ],
      "text/plain": [
       "   name address   sex column\n",
       "0  eric  gorkha  male      E"
      ]
     },
     "execution_count": 17,
     "metadata": {},
     "output_type": "execute_result"
    }
   ],
   "source": [
    "\n",
    "print(\"1.Check pnr status\")\n",
    "print(\"2.Ticket Reservation\")\n",
    "\n",
    "option = int(input(\"\\nEnter your option : \"))\n",
    "\n",
    "\n",
    "if option==1:\n",
    "    \n",
    "    print(\"The detail status is;\")\n",
    "\n",
    "elif option==2:\n",
    "    name_list=[]\n",
    "    address_list=[]\n",
    "    sex_list=[]\n",
    "    col_list=[]\n",
    "    \n",
    "    \n",
    "    name=input(\"enter your name:\")\n",
    "    name_list.append(name)\n",
    "    \n",
    "    address=input(\"enter your address:\")\n",
    "    address_list.append(address)\n",
    "    \n",
    "    sex=input(\"male or female:\")\n",
    "    sex_list.append(sex)\n",
    "    \n",
    "    col=input('enter column:'.upper())\n",
    "    col=col.upper()\n",
    "    col_list.append(col)\n",
    "    \n",
    "    dicc={'name':name_list,\n",
    "            'address':address_list,\n",
    "            'sex':sex_list,\n",
    "            'column':col_list}\n",
    "    \n",
    "    print(dicc)\n",
    "    \n",
    "    \n",
    "    if col=='A':\n",
    "        seat=input(\"enter the seat number:\")\n",
    "        new_t.A[new_t[col]==int(seat)]=name\n",
    "    \n",
    "    elif col=='B':\n",
    "        seat=input(\"enter the seat number:\")\n",
    "        new_t.B[new_t[col]==int(seat)]=name\n",
    "    elif col=='C':\n",
    "        seat=input(\"enter the seat number:\")\n",
    "        new_t.C[new_t[col]==int(seat)]=name\n",
    "    elif col=='D':\n",
    "        seat=input(\"enter the seat number:\")\n",
    "        new_t.D[new_t[col]==int(seat)]=name\n",
    "    elif col=='E':\n",
    "        seat=input(\"enter the seat number:\")\n",
    "        new_t.E[new_t[col]==int(seat)]=name\n",
    "    else:\n",
    "        print(\"you have typr wrong column please TRY AGAIN\") \n",
    "        \n",
    "        \n",
    "else:\n",
    "    print(\"enter again your choice is invalid\")\n",
    "    \n",
    "pd.DataFrame(dicc)\n"
   ]
  },
  {
   "cell_type": "code",
   "execution_count": 18,
   "metadata": {},
   "outputs": [
    {
     "data": {
      "text/html": [
       "<div>\n",
       "<style scoped>\n",
       "    .dataframe tbody tr th:only-of-type {\n",
       "        vertical-align: middle;\n",
       "    }\n",
       "\n",
       "    .dataframe tbody tr th {\n",
       "        vertical-align: top;\n",
       "    }\n",
       "\n",
       "    .dataframe thead th {\n",
       "        text-align: right;\n",
       "    }\n",
       "</style>\n",
       "<table border=\"1\" class=\"dataframe\">\n",
       "  <thead>\n",
       "    <tr style=\"text-align: right;\">\n",
       "      <th></th>\n",
       "      <th>A</th>\n",
       "      <th>B</th>\n",
       "      <th>C</th>\n",
       "      <th>D</th>\n",
       "      <th>E</th>\n",
       "    </tr>\n",
       "  </thead>\n",
       "  <tbody>\n",
       "    <tr>\n",
       "      <td>1</td>\n",
       "      <td>saugat</td>\n",
       "      <td>2</td>\n",
       "      <td>3</td>\n",
       "      <td>4</td>\n",
       "      <td>5</td>\n",
       "    </tr>\n",
       "    <tr>\n",
       "      <td>2</td>\n",
       "      <td>6</td>\n",
       "      <td>7</td>\n",
       "      <td>8</td>\n",
       "      <td>pandey</td>\n",
       "      <td>10</td>\n",
       "    </tr>\n",
       "    <tr>\n",
       "      <td>3</td>\n",
       "      <td>11</td>\n",
       "      <td>subham</td>\n",
       "      <td>13</td>\n",
       "      <td>14</td>\n",
       "      <td>eric</td>\n",
       "    </tr>\n",
       "    <tr>\n",
       "      <td>4</td>\n",
       "      <td>16</td>\n",
       "      <td>dipak</td>\n",
       "      <td>18</td>\n",
       "      <td>wagle</td>\n",
       "      <td>20</td>\n",
       "    </tr>\n",
       "    <tr>\n",
       "      <td>5</td>\n",
       "      <td>21</td>\n",
       "      <td>22</td>\n",
       "      <td>januka</td>\n",
       "      <td>24</td>\n",
       "      <td>25</td>\n",
       "    </tr>\n",
       "  </tbody>\n",
       "</table>\n",
       "</div>"
      ],
      "text/plain": [
       "        A       B       C       D     E\n",
       "1  saugat       2       3       4     5\n",
       "2       6       7       8  pandey    10\n",
       "3      11  subham      13      14  eric\n",
       "4      16   dipak      18   wagle    20\n",
       "5      21      22  januka      24    25"
      ]
     },
     "execution_count": 18,
     "metadata": {},
     "output_type": "execute_result"
    }
   ],
   "source": [
    "new_t"
   ]
  },
  {
   "cell_type": "code",
   "execution_count": null,
   "metadata": {},
   "outputs": [],
   "source": []
  },
  {
   "cell_type": "code",
   "execution_count": null,
   "metadata": {},
   "outputs": [],
   "source": []
  },
  {
   "cell_type": "code",
   "execution_count": 23,
   "metadata": {},
   "outputs": [],
   "source": []
  },
  {
   "cell_type": "code",
   "execution_count": null,
   "metadata": {},
   "outputs": [],
   "source": []
  },
  {
   "cell_type": "code",
   "execution_count": null,
   "metadata": {},
   "outputs": [],
   "source": []
  }
 ],
 "metadata": {
  "kernelspec": {
   "display_name": "Python 3",
   "language": "python",
   "name": "python3"
  },
  "language_info": {
   "codemirror_mode": {
    "name": "ipython",
    "version": 3
   },
   "file_extension": ".py",
   "mimetype": "text/x-python",
   "name": "python",
   "nbconvert_exporter": "python",
   "pygments_lexer": "ipython3",
   "version": "3.7.4"
  }
 },
 "nbformat": 4,
 "nbformat_minor": 2
}
